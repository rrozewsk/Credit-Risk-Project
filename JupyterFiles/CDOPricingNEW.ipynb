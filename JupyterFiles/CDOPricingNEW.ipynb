{
 "cells": [
  {
   "cell_type": "markdown",
   "metadata": {},
   "source": [
    "CDO Tranche Pricing\n",
    "-------------------\n",
    "\n",
    "The par spread $S$ of a CDS tranche is given by\n",
    "$$S = \\frac{\\text{Protection Leg PV}}{\\text{RPV01}},$$\n",
    "\n",
    "where\n",
    "$$\\begin{aligned}\n",
    "\\text{RPV01} &= \\sum_{i} \\Delta_i Z(t_i) \\frac{Q(t_{i-1},K_1,K_2) + Q(t_i, K_1, K_2)}{2} \\\\\n",
    "\\text{Protection Leg PV} &= \\int_{0}^{T} Z(t) (-dQ(t,K_1,K_2))\n",
    "\\end{aligned}$$\n",
    "\n",
    "Here, \n",
    "\n",
    "* $K_1, K_2, T$ is the tranche starting level, final level, and maturity, respectively.\n",
    "* $Z(t)$ is the discount factor curve.\n",
    "* $Q(t,K_1,K_2)$ is the tranche survival curve: $Q(t,K_1,K_2)= 1 - \\frac{f(t, K_2) - f(t, K_1)}{K_2 - K_1}$\n",
    "* $t_i$ is the time of the $i^{th}$ premium payment. And $\\Delta_i$ is the time-fraction of the $i^{th}$\n",
    "  interval, using the Act365 DCF.\n",
    " \n",
    "  \n",
    "And $f(t,K) = E[ \\min (L(t),K)]$ is model-dependent.\n",
    "\n",
    "With the exception for the formula of $Q$, the CDO tranche pricing formula is identical to\n",
    "the CDS pricing formula with $R=0$. So we first define a class for calculating CDS's."
   ]
  },
  {
   "cell_type": "code",
   "execution_count": 1,
   "metadata": {
    "collapsed": false
   },
   "outputs": [],
   "source": [
    "from datetime import timedelta\n",
    "class CDS(object):\n",
    "    \"\"\"A generic CDS class. Can also be used for CDO tranches.\n",
    "    \n",
    "    Attributes:\n",
    "        today (datetime.date): The present date.\n",
    "        maturity (datetime.date): The maturity of the CDO.\n",
    "        remaining_payments (list): A list of datetime.date objects indicating \n",
    "            the remaining payment dates for the premium leg.\n",
    "        R (float): The recovery fraction (0 to 1).\n",
    "        Z (callable function): A function Z(t) that outputs the discount factor\n",
    "            Z(t) for a given time t (datetime.date object). Input and output are\n",
    "            both positive floats.\n",
    "        Q (callable function): A function Q(t) that takes in a single\n",
    "            datetime.date perameter and returns a float representing the tranche\n",
    "            survival probability. This function should be well-defined for all \n",
    "            dates between `today` and `maturity`.\n",
    "    \"\"\"\n",
    "    def __init__(self, today, maturity, remaining_payments, R, Z, Q):\n",
    "        self.today = today\n",
    "        self.maturity = maturity\n",
    "        self.remaining_payments = remaining_payments\n",
    "        self.R = R\n",
    "        self.Z = Z\n",
    "        self.Q = Q\n",
    "    def rpv01(self):\n",
    "        \"\"\"Returns the value of the tranche premium leg for unit notional.\n",
    "        \"\"\"\n",
    "        days = [self.today] + self.remaining_payments\n",
    "        print(days)\n",
    "        nodes = [(day - self.today).days / 365 for day in days]\n",
    "        #qvals = [self.Q(day) for day in days]\n",
    "        qvals = self.Q\n",
    "        total = 0\n",
    "        for i in range(1, len(days)):\n",
    "            delta = nodes[i] - nodes[i - 1]\n",
    "            total += delta * self.Z(days[i]) * (qvals[i] + qvals[i - 1])\n",
    "        return total / 2\n",
    "    def protectionLegPV(self, N = 200):\n",
    "        \"\"\"Returns the value of the protection leg for unit notional.\n",
    "        \n",
    "        Arguments:\n",
    "            N (int, optional): The number of nodes for calculating the integral.\n",
    "        \"\"\"\n",
    "        delta = (self.maturity - self.today).days / N\n",
    "        days = [today + timedelta(days = delta) * n for n in range(N + 1)]\n",
    "        #print(days)\n",
    "        #qvals = [self.Q(day) for day in days]\n",
    "        qvals = self.Q\n",
    "        values = [Z(days[i]) * (qvals[i - 1] - qvals[i])\n",
    "                  for i in range(1, len(days))]\n",
    "        return (1 - self.R) * sum(values)\n",
    "    def parSpread(self, N = 200):\n",
    "        \"\"\" Returns the par spread.\n",
    "        \n",
    "        Arguments:\n",
    "            N (int, optional): The number of nodes for calculating the \n",
    "                protection leg integral.\n",
    "        \"\"\"\n",
    "        return self.protectionLegPV(N) / self.rpv01()"
   ]
  },
  {
   "cell_type": "markdown",
   "metadata": {},
   "source": [
    "Large Homogenous Portfolio (LHP) Model\n",
    "--------------------------------------\n",
    "\n",
    "The LHP tranche pricing model is given by the following equations:\n",
    "$$\\begin{aligned}\n",
    "E[\\min (L(T), K)] &= (1-R) \\Phi_{2}(C(T), -A(K), - \\beta) + K \\Phi(A(K)) \\\\\n",
    "A(K) &= \\frac{1}{\\beta} \\left( C(T) - \\sqrt{1 - \\beta^{2}} \\Phi^{-1} \\left( \\frac{K}{1-R} \\right) \\right) \\\\\n",
    "C(T) &= \\Phi^{-1} (1 - Q(T))\n",
    "\\end{aligned}$$\n",
    "\n",
    "Here:\n",
    "* $\\Phi_{2}$ is the cdf of the bivariate normal distribution. The third perameter being correlation.\n",
    "* $\\beta^{2}$ the correlation\n",
    "* $R$ is the recovery rate.\n",
    "* $Q(T)$ is the survival curve"
   ]
  },
  {
   "cell_type": "code",
   "execution_count": 10,
   "metadata": {
    "collapsed": false
   },
   "outputs": [],
   "source": [
    "from scipy.stats import norm, mvn #normal and bivariate normal\n",
    "from numpy       import sqrt\n",
    "\n",
    "def Q_lhp(t, K1, K2, R, beta, Q):\n",
    "    \"\"\"Calculates the Tranche survival curve for the LHP model.\n",
    "    \n",
    "    Args:\n",
    "        T (datetime.date): Should be given in \"days\" (no hours, minutes, etc.)\n",
    "        K1 (float): The starting value of the tranche. Its value should be \n",
    "            between 0 & 1.\n",
    "        K2 (float): The final value of the tranche. \n",
    "        beta (float): Correlation perameter. Its value should be between 0 and 1.\n",
    "        R (float): Recovery rate. Usually between 0 and 1.\n",
    "        Q (callable function): A function Q that takes in a dateime.date and\n",
    "            outputs a float from 0 to 1. It is assumed that Q(0) = 1 and Q is \n",
    "            decreasing. Represents survival curve of each credit.\n",
    "    \"\"\"\n",
    "    if Q(t) == 1:\n",
    "        return 1 # prevents infinity\n",
    "    def emin(K):\n",
    "    # Calculates E[min(L(T), K)] in LHP model\n",
    "        print(Q(t))\n",
    "        C = norm.ppf(1 - Q(t))\n",
    "        A = (1 / beta) * (C - sqrt(1 - beta * beta) * norm.ppf(K / (1 - R)))\n",
    "        return (1 - R) * mvn.mvndst(upper = [C, -1 * A],\n",
    "                                    lower = [0,0],\n",
    "                                    infin = [0,0], # set lower bounds = -infty\n",
    "                                    correl =  -1 * beta)[1] + K * norm.cdf(A)\n",
    "    return 1 - (emin(K2) - emin(K1)) / (K2 - K1)"
   ]
  },
  {
   "cell_type": "markdown",
   "metadata": {},
   "source": [
    "Gaussian Heterogenous Model\n",
    "---------------------------\n",
    "\n",
    "The tranche survival curve is given by \n",
    "\n",
    "$$\\begin{aligned}\n",
    "Q_{\\text{Gauss}} (t, K_1, K_2) & = 1 - \\frac{1}{K_2 - K_1} \\int_{- \\infty}^{+ \\infty} \\phi (z) f(z) dz \\\\\n",
    "f(z) &= \\sigma \\phi \\left(\\frac{\\mu - K_1}{\\sigma} \\right) + (\\mu - K_1) \\Phi \\left( \\frac{\\mu - K_1}{\\sigma} \\right) - (\\mu - K_2) \\Phi \\left( \\frac{\\mu - K_2}{\\sigma} \\right) - \\sigma \\phi \\left( \\frac{\\mu - K2}{\\sigma} \\right) \\\\\n",
    "\\mu &= \\frac{1}{N} \\sum_{i=1}^{N} p_{i}(t,z) F_i (1 - R_i) \\\\\n",
    "\\sigma^{2} &= \\frac{1}{N^2} \\sum_{i=1}^{N} p_i (t,z) (1 - p_i (t,z)) F_i^2 (1-R_i)^{2} \\\\\n",
    "p_{i}(t,z) &= \\Phi \\left( \\frac{C_i (t) - \\beta_i z}{\\sqrt{1 - \\beta_i^2}}\\right) \\\\\n",
    "C_{i} (t) &= \\Phi^{-1} (1 -Q_i (t))\n",
    "\\end{aligned}$$\n",
    "\n",
    "Here:\n",
    "\n",
    "* $K_1, K_2$ are the boundaries of the tranche (they are between 0 and 1).\n",
    "* $N$ is the number of credits\n",
    "* $F_i$ is the fractional face value of the $i$th credit.\n",
    "* $R_i$ is the recovery rate of the $i$th credit.\n",
    "* $\\beta_{i}$ is the $i$th correlation perameter\n",
    "* $Q_i$ is the survival curve of the $i$th credit.\n",
    "\n",
    "Unlike the LHP model, this is heterogenous in that each credit has distinct values of $ R_i, \\beta_i, Q_i$. Moreover, the values of $F_i$ becomes relevant."
   ]
  },
  {
   "cell_type": "code",
   "execution_count": 3,
   "metadata": {
    "collapsed": false
   },
   "outputs": [],
   "source": [
    "from scipy.integrate import quad\n",
    "def Q_gauss(t, K1, K2, Fs, Rs, betas, Qs):\n",
    "    \"\"\" Calculate the tranche survival probability in the Gaussian heterogenous model.\n",
    "    \n",
    "    Arguments:\n",
    "        t (float): Time. Positive.\n",
    "        K1 (float): Starting tranche value. Between 0 and 1.\n",
    "        K2 (float): Ending tranche value. Between 0 and 1.\n",
    "        Fs (list): List of fractional face values for each credit. Each entry must be\n",
    "            between 0 and 1.\n",
    "        Rs (list): List of recovery rates for each credit. Each entry must be between\n",
    "            0 and 1.\n",
    "        betas (list): Correlation perameters for each credit. Each entry must be between\n",
    "            0 and 1.\n",
    "        Qs (list): Survival curves for each credit. Each entry must be a callable function\n",
    "            that takes in a datetime.date argument and returns a number from 0 to 1.\n",
    "    \"\"\"\n",
    "    Cs = [norm.ppf(1 - q(t)) for q in Qs]\n",
    "    N = len(Fs) \n",
    "    def f(z):\n",
    "        ps = [norm.cdf((C - beta * z) / sqrt(1 - beta * beta)) for C, beta in zip(Cs, betas)]\n",
    "        mu = 1 / N * sum([p * F * (1 - R) for p, F, R in zip(ps, Fs, Rs)])\n",
    "        sigma_squared = 1 / N / N * sum([p * (1 - p) * F ** 2 * (1 - R) ** 2 for p, F, R in zip(ps, Fs, Rs)])\n",
    "        sigma = sqrt(sigma_squared)\n",
    "        return (sigma * norm.pdf((mu - K1) / sigma)\n",
    "                - sigma * norm.pdf((mu - K2) / sigma) \n",
    "                + (mu - K1) * norm.cdf((mu - K1) / sigma) \n",
    "                - (mu - K2) * norm.cdf((mu - K2) / sigma))\n",
    "    integral = quad(lambda z: f(z) * norm.pdf(z), -10, 10)[0]\n",
    "    return 1 - integral / (K2 - K1)"
   ]
  },
  {
   "cell_type": "markdown",
   "metadata": {},
   "source": [
    "Adjusted Binomial Model\n",
    "-----------------------\n",
    "\n",
    "The adjusted binomial model is given as \n",
    "\n",
    "$$\\begin{aligned}\n",
    "E[min(L(T),K)] &= \\sum_{k=0}^{N} h(k) \\min (Lk, K) \\\\\n",
    "h(k) &= \\int_{- \\infty}^{\\infty} \\phi (z) g(k) dz \\\\\n",
    "g(k) &= \\alpha f(k) \\text{ for } k \\neq l,u \\\\\n",
    "g(l) &= f(l) + (1 - \\alpha)(u - m) \\\\\n",
    "g(u) &= f(u) - (1 - \\alpha)(l - m) \\\\\n",
    "l &= \\text{floor} (m) \\\\\n",
    "m &= p N \\\\\n",
    "u &= l + 1 \\\\\n",
    "p &= \\frac{1}{N} \\sum_{i=1}^N \\frac{(1 - R_i)F_i}{L} p_i \\\\\n",
    "\\alpha &= \\frac{v_E N + (u - m)^2 -((l -m)^2 - (u -m)^2)(u -m)}\n",
    "{v_A N + (u - m)^2 -((l -m)^2 - (u -m)^2)(u -m)} \\\\\n",
    "v_E &= \\frac{1}{N^2} \\sum_{i=1}^{N} \\left( \\frac{(1-R_i)F_i}{L}\\right)^2 p_i(1 - p_i) \\\\\n",
    "v_A &= \\frac{p(1-p)}{N} \\\\\n",
    "f(k) &= \\frac{N!}{(N - k)! k!} p^k (1 - p)^{N - k} \\\\\n",
    "L &= \\frac{1}{N} \\sum_{i=1}^{N} (1 - R_i) F_i\n",
    "\\end{aligned}$$"
   ]
  },
  {
   "cell_type": "code",
   "execution_count": 4,
   "metadata": {
    "collapsed": false
   },
   "outputs": [],
   "source": [
    "def Q_adjbinom(t, K1, K2, Fs, Rs, betas, Qs):\n",
    "    if Qs[0](t) == 1:\n",
    "        return 1.0 # initial value -- avoids weird nan return\n",
    "    N = len(Fs)\n",
    "    Cs = [norm.ppf(1 - Q(t)) for Q in Qs]\n",
    "    L = sum([(1 - R) * F for R, F in zip(Rs, Fs)]) / N\n",
    "    def choose(n, k): # Calculates binomial coeffecient: n choose k.\n",
    "        if k == 0 or k == n:\n",
    "            return 1\n",
    "        return choose(n - 1, k - 1) + choose(n - 1, k)\n",
    "    def g(k,z):\n",
    "        ps = [norm.cdf((C - beta * z) / sqrt(1 - beta * beta)) for C, beta in zip(Cs, betas)]\n",
    "        p_avg = sum([(1 - R) * F / L * p for R, F, p in zip(Rs, Fs, ps)]) / N\n",
    "        f = lambda k: choose(N, k) * p_avg ** k * (1 - p_avg) ** (N - k)\n",
    "        vA = p_avg * (1 - p_avg) / N\n",
    "        vE = 1 / N / N * sum([((1 - R) * F / L) ** 2 * p * (1 - p) for R, F, p in zip(Rs, Fs, ps)])\n",
    "        m = p_avg * N\n",
    "        l = int(m)\n",
    "        u = l + 1\n",
    "        o = (u - m) ** 2 + ((l - m) ** 2 - (u - m) ** 2) * (u - m)\n",
    "        alpha = (vE * N + o) / (vA * N + o)\n",
    "        if k == l:\n",
    "            return f(l) + (1 - alpha) * (u - m)\n",
    "        if k == u:\n",
    "            return f(u) - (1 - alpha) * (l - m)\n",
    "        return alpha * f(k)\n",
    "    I = lambda k: quad(lambda z: norm.pdf(z) * g(k, z), -10, 10)[0]\n",
    "    emin = lambda K: sum([I(k) * min(L * k, K) for k in range(0, N + 1)])\n",
    "    return 1 - (emin(K2) - emin(K1)) / (K2 - K1)"
   ]
  },
  {
   "cell_type": "markdown",
   "metadata": {},
   "source": [
    "Example\n",
    "-------"
   ]
  },
  {
   "cell_type": "code",
   "execution_count": 6,
   "metadata": {
    "collapsed": false
   },
   "outputs": [],
   "source": [
    "from numpy import exp\n",
    "from datetime import date, timedelta\n",
    "K1 = 0.03\n",
    "K2 = 0.07\n",
    "Fs = [0.3, 0.8]\n",
    "Rs = [0.40, 0.60]\n",
    "def expdecay(today, rate):\n",
    "    return lambda t: exp(-1 * (t - today).days / 365 * rate)\n",
    "today = date(2012,1, 1)\n",
    "Qs = [expdecay(today, 0.0120), expdecay(today, 0.0160)]\n",
    "betas = [0.30, 0.40]\n",
    "tvalues = [today + timedelta(days = 30) * n for n in range(37)] #3 years\n",
    "# LHP perameters average the other perameters\n",
    "R = 0.50\n",
    "Q = expdecay(today, 0.0140)\n",
    "beta = 0.35"
   ]
  },
  {
   "cell_type": "code",
   "execution_count": 11,
   "metadata": {
    "collapsed": false
   },
   "outputs": [
    {
     "name": "stdout",
     "output_type": "stream",
     "text": [
      "0.998849976853\n",
      "0.998849976853\n",
      "0.997701276258\n",
      "0.997701276258\n",
      "0.996553896696\n",
      "0.996553896696\n",
      "0.995407836647\n",
      "0.995407836647\n",
      "0.994263094594\n",
      "0.994263094594\n",
      "0.993119669021\n",
      "0.993119669021\n",
      "0.991977558413\n",
      "0.991977558413\n",
      "0.990836761259\n",
      "0.990836761259\n",
      "0.989697276048\n",
      "0.989697276048\n",
      "0.988559101272\n",
      "0.988559101272\n",
      "0.987422235423\n",
      "0.987422235423\n",
      "0.986286676996\n",
      "0.986286676996\n",
      "0.985152424487\n",
      "0.985152424487\n",
      "0.984019476395\n",
      "0.984019476395\n",
      "0.98288783122\n",
      "0.98288783122\n",
      "0.981757487463\n",
      "0.981757487463\n",
      "0.980628443627\n",
      "0.980628443627\n",
      "0.979500698218\n",
      "0.979500698218\n",
      "0.978374249742\n",
      "0.978374249742\n",
      "0.977249096708\n",
      "0.977249096708\n",
      "0.976125237626\n",
      "0.976125237626\n",
      "0.975002671008\n",
      "0.975002671008\n",
      "0.973881395367\n",
      "0.973881395367\n",
      "0.972761409219\n",
      "0.972761409219\n",
      "0.971642711082\n",
      "0.971642711082\n",
      "0.970525299473\n",
      "0.970525299473\n",
      "0.969409172914\n",
      "0.969409172914\n",
      "0.968294329925\n",
      "0.968294329925\n",
      "0.967180769032\n",
      "0.967180769032\n",
      "0.96606848876\n",
      "0.96606848876\n",
      "0.964957487636\n",
      "0.964957487636\n",
      "0.963847764189\n",
      "0.963847764189\n",
      "0.96273931695\n",
      "0.96273931695\n",
      "0.96163214445\n",
      "0.96163214445\n",
      "0.960526245225\n",
      "0.960526245225\n",
      "0.959421617809\n",
      "0.959421617809\n"
     ]
    },
    {
     "name": "stderr",
     "output_type": "stream",
     "text": [
      "/Library/Frameworks/Python.framework/Versions/3.5/lib/python3.5/site-packages/ipykernel/__main__.py:28: RuntimeWarning: divide by zero encountered in double_scalars\n"
     ]
    }
   ],
   "source": [
    "# Takes FOREVER\n",
    "lhpcurve = [Q_lhp(t, K1, K2, R, beta, Q) for t in tvalues]\n",
    "adjointbinomialcurve = [Q_adjbinom(t, K1, K2, Fs, Rs, betas, Qs) for t in tvalues]\n",
    "gaussiancurve = [Q_gauss(t, K1, K2, Fs, Rs, betas, Qs) for t in tvalues]"
   ]
  },
  {
   "cell_type": "code",
   "execution_count": 9,
   "metadata": {
    "collapsed": false
   },
   "outputs": [
    {
     "name": "stdout",
     "output_type": "stream",
     "text": [
      "[1, 0.99999965994584639, 0.99999403008865395, 0.9999706601224525, 0.99991294341174453, 0.99980281743998867, 0.99962227890088384, 0.99935421949909686, 0.99898287173271905, 0.99849402485884109, 0.9978751030782792, 0.99711516071979356, 0.9962048279541551, 0.99513622798540191, 0.993902878981757, 0.99249958919651116, 0.99092235065545786, 0.98916823479392924, 0.98723529211910255, 0.98512245710987867, 0.98282945899499463, 0.98035673867244555, 0.9777053717860773, 0.97487699781614656, 0.97187375494151729, 0.96869822037277209, 0.96535335582480464, 0.96184245778543576, 0.95816911223698287, 0.9543371534962739, 0.95035062685223937, 0.94621375469695057, 0.94193090586429051, 0.93750656790941256, 0.93294532208106518, 0.92825182075731805, 0.92343076713293815]\n"
     ]
    }
   ],
   "source": [
    "print(lhpcurve)"
   ]
  },
  {
   "cell_type": "code",
   "execution_count": 7,
   "metadata": {
    "collapsed": false
   },
   "outputs": [
    {
     "data": {
      "text/plain": [
       "<function matplotlib.pyplot.show>"
      ]
     },
     "execution_count": 7,
     "metadata": {},
     "output_type": "execute_result"
    },
    {
     "data": {
      "image/png": "[encoded data removed]",
      "text/plain": [
       "<matplotlib.figure.Figure at 0x10808ccf8>"
      ]
     },
     "metadata": {},
     "output_type": "display_data"
    }
   ],
   "source": [
    "%matplotlib inline\n",
    "import matplotlib.pyplot as plt\n",
    "plt.plot(tvalues, lhpcurve, 'ro', #red\n",
    "         tvalues, adjointbinomialcurve, 'bo', #blue\n",
    "         tvalues, gaussiancurve, 'go' #green\n",
    "         )\n",
    "plt.show"
   ]
  },
  {
   "cell_type": "code",
   "execution_count": 39,
   "metadata": {
    "collapsed": false
   },
   "outputs": [
    {
     "name": "stdout",
     "output_type": "stream",
     "text": [
      "37\n"
     ]
    },
    {
     "ename": "TypeError",
     "evalue": "unsupported operand type(s) for -: 'list' and 'datetime.date'",
     "traceback": [
      "\u001b[0;31m---------------------------------------------------------------------------\u001b[0m",
      "\u001b[0;31mTypeError\u001b[0m                                 Traceback (most recent call last)",
      "\u001b[0;32m<ipython-input-39-77f018d8785e>\u001b[0m in \u001b[0;36m<module>\u001b[0;34m()\u001b[0m\n\u001b[1;32m     11\u001b[0m \u001b[0mCDS1\u001b[0m \u001b[0;34m=\u001b[0m \u001b[0mCDS\u001b[0m\u001b[0;34m(\u001b[0m\u001b[0mtoday\u001b[0m\u001b[0;34m=\u001b[0m\u001b[0mtoday\u001b[0m\u001b[0;34m,\u001b[0m \u001b[0mmaturity\u001b[0m \u001b[0;34m=\u001b[0m \u001b[0mmaturity\u001b[0m\u001b[0;34m,\u001b[0m \u001b[0mremaining_payments\u001b[0m \u001b[0;34m=\u001b[0m \u001b[0mremaining_payments\u001b[0m\u001b[0;34m,\u001b[0m \u001b[0mR\u001b[0m \u001b[0;34m=\u001b[0m \u001b[0mR\u001b[0m\u001b[0;34m,\u001b[0m \u001b[0mZ\u001b[0m \u001b[0;34m=\u001b[0m \u001b[0mZ\u001b[0m\u001b[0;34m,\u001b[0m \u001b[0mQ\u001b[0m \u001b[0;34m=\u001b[0m \u001b[0mlhpcurve\u001b[0m\u001b[0;34m)\u001b[0m\u001b[0;34m\u001b[0m\u001b[0m\n\u001b[1;32m     12\u001b[0m \u001b[0;34m\u001b[0m\u001b[0m\n\u001b[0;32m---> 13\u001b[0;31m \u001b[0mCDS1\u001b[0m\u001b[0;34m.\u001b[0m\u001b[0mparSpread\u001b[0m\u001b[0;34m(\u001b[0m\u001b[0mN\u001b[0m\u001b[0;34m=\u001b[0m\u001b[0mN\u001b[0m\u001b[0;34m)\u001b[0m\u001b[0;34m\u001b[0m\u001b[0m\n\u001b[0m",
      "\u001b[0;32m<ipython-input-36-7538f54f206a>\u001b[0m in \u001b[0;36mparSpread\u001b[0;34m(self, N)\u001b[0m\n\u001b[1;32m     58\u001b[0m                 \u001b[0mprotection\u001b[0m \u001b[0mleg\u001b[0m \u001b[0mintegral\u001b[0m\u001b[0;34m.\u001b[0m\u001b[0;34m\u001b[0m\u001b[0m\n\u001b[1;32m     59\u001b[0m         \"\"\"\n\u001b[0;32m---> 60\u001b[0;31m         \u001b[0;32mreturn\u001b[0m \u001b[0mself\u001b[0m\u001b[0;34m.\u001b[0m\u001b[0mprotectionLegPV\u001b[0m\u001b[0;34m(\u001b[0m\u001b[0mN\u001b[0m\u001b[0;34m)\u001b[0m \u001b[0;34m/\u001b[0m \u001b[0mself\u001b[0m\u001b[0;34m.\u001b[0m\u001b[0mrpv01\u001b[0m\u001b[0;34m(\u001b[0m\u001b[0;34m)\u001b[0m\u001b[0;34m\u001b[0m\u001b[0m\n\u001b[0m",
      "\u001b[0;32m<ipython-input-36-7538f54f206a>\u001b[0m in \u001b[0;36mprotectionLegPV\u001b[0;34m(self, N)\u001b[0m\n\u001b[1;32m     43\u001b[0m             \u001b[0mN\u001b[0m \u001b[0;34m(\u001b[0m\u001b[0mint\u001b[0m\u001b[0;34m,\u001b[0m \u001b[0moptional\u001b[0m\u001b[0;34m)\u001b[0m\u001b[0;34m:\u001b[0m \u001b[0mThe\u001b[0m \u001b[0mnumber\u001b[0m \u001b[0mof\u001b[0m \u001b[0mnodes\u001b[0m \u001b[0;32mfor\u001b[0m \u001b[0mcalculating\u001b[0m \u001b[0mthe\u001b[0m \u001b[0mintegral\u001b[0m\u001b[0;34m.\u001b[0m\u001b[0;34m\u001b[0m\u001b[0m\n\u001b[1;32m     44\u001b[0m         \"\"\"\n\u001b[0;32m---> 45\u001b[0;31m         \u001b[0mdelta\u001b[0m \u001b[0;34m=\u001b[0m \u001b[0;34m(\u001b[0m\u001b[0mself\u001b[0m\u001b[0;34m.\u001b[0m\u001b[0mmaturity\u001b[0m \u001b[0;34m-\u001b[0m \u001b[0mself\u001b[0m\u001b[0;34m.\u001b[0m\u001b[0mtoday\u001b[0m\u001b[0;34m)\u001b[0m\u001b[0;34m.\u001b[0m\u001b[0mdays\u001b[0m \u001b[0;34m/\u001b[0m \u001b[0mN\u001b[0m\u001b[0;34m\u001b[0m\u001b[0m\n\u001b[0m\u001b[1;32m     46\u001b[0m         \u001b[0mdays\u001b[0m \u001b[0;34m=\u001b[0m \u001b[0;34m[\u001b[0m\u001b[0mtoday\u001b[0m \u001b[0;34m+\u001b[0m \u001b[0mtimedelta\u001b[0m\u001b[0;34m(\u001b[0m\u001b[0mdays\u001b[0m \u001b[0;34m=\u001b[0m \u001b[0mdelta\u001b[0m\u001b[0;34m)\u001b[0m \u001b[0;34m*\u001b[0m \u001b[0mn\u001b[0m \u001b[0;32mfor\u001b[0m \u001b[0mn\u001b[0m \u001b[0;32min\u001b[0m \u001b[0mrange\u001b[0m\u001b[0;34m(\u001b[0m\u001b[0mN\u001b[0m \u001b[0;34m+\u001b[0m \u001b[0;36m1\u001b[0m\u001b[0;34m)\u001b[0m\u001b[0;34m]\u001b[0m\u001b[0;34m\u001b[0m\u001b[0m\n\u001b[1;32m     47\u001b[0m         \u001b[0;31m#print(days)\u001b[0m\u001b[0;34m\u001b[0m\u001b[0;34m\u001b[0m\u001b[0m\n",
      "\u001b[0;31mTypeError\u001b[0m: unsupported operand type(s) for -: 'list' and 'datetime.date'"
     ],
     "output_type": "error"
    }
   ],
   "source": [
    "## Test Spreads\n",
    "maturity = tvalues\n",
    "remaining_payments = tvalues\n",
    "Z = expdecay(today, 0.0140)\n",
    "\n",
    "#print(lhpcurve[1])\n",
    "N = len(lhpcurve)\n",
    "print(N)\n",
    "#print(today)\n",
    "#print(maturity)\n",
    "CDS1 = CDS(today=today, maturity = maturity, remaining_payments = remaining_payments, R = R, Z = Z, Q = lhpcurve)\n",
    "\n",
    "CDS1.parSpread(N=N)"
   ]
  },
  {
   "cell_type": "code",
   "execution_count": null,
   "metadata": {
    "collapsed": true
   },
   "outputs": [],
   "source": [
    ""
   ]
  }
 ],
 "metadata": {
  "kernelspec": {
   "display_name": "Python 3",
   "language": "python",
   "name": "python3"
  },
  "language_info": {
   "codemirror_mode": {
    "name": "ipython",
    "version": 3.0
   },
   "file_extension": ".py",
   "mimetype": "text/x-python",
   "name": "python",
   "nbconvert_exporter": "python",
   "pygments_lexer": "ipython3",
   "version": "3.5.2"
  }
 },
 "nbformat": 4,
 "nbformat_minor": 0
}