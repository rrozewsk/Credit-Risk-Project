{
 "cells": [
  {
   "cell_type": "markdown",
   "metadata": {},
   "source": [
    "STCDO Tranche Pricing\n",
    "-------------------\n",
    "\n",
    "The par spread $S$ of a CDS tranche is given by\n",
    "$$S = \\frac{\\text{Protection Leg PV}}{\\text{RPV01}},$$\n",
    "\n",
    "where\n",
    "$$\\begin{aligned}\n",
    "\\text{RPV01} &= \\sum_{i} \\Delta_i Z(t_i) \\frac{Q(t_{i-1},K_1,K_2), Q(t_i, K_1, K_2)}{2} \\\\\n",
    "\\text{Protection Leg PV} &= \\int_{0}^{T} Z(t) (-dQ(t,K_1,K_2))\n",
    "\\end{aligned}$$\n",
    "\n",
    "Here, \n",
    "\n",
    "* $K_1, K_2, T$ is the tranche starting level, final level, and maturity, respectively.\n",
    "* $Z(t)$ is the discount factor curve.\n",
    "* $Q(t,K_1,K_2)$ is the tranche survival curve: $Q(t,K_1,K_2)= 1 - \\frac{f(t, K_2) - f(t, K_1)}{K_2 - K_1}$\n",
    "* $t_i$ is the time of the $i^{th}$ premium payment. And $\\Delta_i$ is the time-fraction of the $i^{th}$\n",
    "  interval, using the Act365 DCF.\n",
    " \n",
    "  \n",
    "And $f(t,K) = E[ \\min (L(t),K)]$ is model-dependent."
   ]
  },
  {
   "cell_type": "code",
   "execution_count": 4,
   "metadata": {
    "collapsed": true
   },
   "outputs": [],
   "source": [
    "from datetime import timedelta\n",
    "class Tranche(object):\n",
    "    \"\"\"Defines a generic CDO tranche class for pricing.\n",
    "    \n",
    "    Attributes:\n",
    "        f (callable function): A function f(t,K) that takes in two floating point\n",
    "            values and returns a float. Represents E[min(L(t)),K]. It is model-dependent.\n",
    "        maturity (datetime.date): The maturity of the CDO. Should be given in \"days\" (no\n",
    "            hours, minutes, seconds).\n",
    "        K_1 (float): The starting value of the tranche. Must be between 0 and 1.\n",
    "        K_2 (float): the ending value of the tranche. Must be between 0 and 1.\n",
    "        remaining_payments (list): A list of datetime.date objects indicating the remaining\n",
    "            premium payment dates in the tranche\n",
    "        Z (callable function): A function Z(t) that outputs the discount factor Z(t) for a\n",
    "            given time t. Input and output are both positive floats.\n",
    "        today (datetime.date): The present date.\n",
    "    \"\"\"\n",
    "    def __init__(self, f, maturity, K1, K2, remaining_payments, Z, today):\n",
    "        self.f = f\n",
    "        self.maturity = maturity\n",
    "        self.K1 = K1\n",
    "        self.K2 = K2\n",
    "        self.remaining_payments = remaining_payments\n",
    "        self.Z = Z\n",
    "        self.today = today\n",
    "    def qtranche(self, t):\n",
    "        \"\"\"Calculates the tranche survival curve at time t.\n",
    "        \n",
    "        Args:\n",
    "            t (float): The time at which the tranche survival curve is calculated.\n",
    "        Returns:\n",
    "            float: The value of the tranche survival curve.\n",
    "        \"\"\"\n",
    "        if t == self.today:\n",
    "            return 1\n",
    "        x = 1 - (self.f(t, self.K2) - self.f(t, self.K1)) / (self.K2 - self.K1)\n",
    "        return x\n",
    "    def rpv01(self):\n",
    "        # Returns the tranche RPV01 (Notional ==1)\n",
    "        remaining_payments = self.remaining_payments\n",
    "        delta = (remaining_payments[0] - self.today).days / 365\n",
    "        x = 1\n",
    "        y = self.qtranche(remaining_payments[0])\n",
    "        total = delta * self.Z(remaining_payments[0]) * (x + y) / 2\n",
    "        for i in range(1, len(remaining_payments)):\n",
    "            x = self.qtranche(remaining_payments[i - 1])\n",
    "            y = self.qtranche(remaining_payments[i])\n",
    "            delta = (remaining_payments[i] - remaining_payments[i - 1]).days / 365\n",
    "            total = total + delta * self.Z(remaining_payments[i]) * (x + y) / 2\n",
    "        return total\n",
    "    def protectionLegPV(self, N = 150):\n",
    "        # Returns the PV of the tranche protection leg (Notional == 1)\n",
    "        # Uses N subintervals of integration. \n",
    "        date_range = [today + (self.maturity - today) / N * n for n in range(N)]\n",
    "        total = 0\n",
    "        Q = [self.qtranche(date) for date in date_range]\n",
    "        for i in range(1,len(date_range)):\n",
    "            dQ = Q[i] - Q[i - 1]\n",
    "            total = total + -1 * Z(date_range[i]) * dQ\n",
    "        return total\n",
    "    def parSpread(self, N=150):\n",
    "        # Returns the fair par spread for the tranche \n",
    "        return self.protectionLegPV(N) / self.rpv01()"
   ]
  },
  {
   "cell_type": "markdown",
   "metadata": {},
   "source": [
    "Large Homogenous Portfolio (LHP) Model\n",
    "--------------------------------------\n",
    "\n",
    "The LHP tranche pricing model is given by the following equations:\n",
    "$$\\begin{aligned}\n",
    "E[\\min (L(T), K)] &= (1-R) \\Phi_{2}(C(T), -A(K), - \\beta) + K \\Phi(A(K)) \\\\\n",
    "A(K) &= \\frac{1}{\\beta} \\left( C(T) - \\sqrt{1 - \\beta^{2}} \\Phi^{-1} \\left( \\frac{K}{1-R} \\right) \\right) \\\\\n",
    "C(T) &= \\Phi^{-1} (1 - Q(T))\n",
    "\\end{aligned}$$\n",
    "\n",
    "Here:\n",
    "* $\\Phi_{2}$ is the cdf of the bivariate normal distribution. The third perameter being correlation.\n",
    "* $\\beta^{2}$ the correlation\n",
    "* $R$ is the recovery rate.\n",
    "* $Q(T)$ is the survival curve"
   ]
  },
  {
   "cell_type": "code",
   "execution_count": 8,
   "metadata": {
    "collapsed": true
   },
   "outputs": [],
   "source": [
    "from scipy.stats import norm, mvn\n",
    "from numpy       import sqrt\n",
    "def LHP(T, K, beta, Q, R):\n",
    "    \"\"\" Calculates E[min(L(T), K)] in the LHP model:\n",
    "    \n",
    "    Args:\n",
    "        T (datetime.date): Should be given in \"days\" (no hours, minutes, etc.)\n",
    "        K (float): Its value should be between 0 and 1.\n",
    "        beta (float): Its value should be between 0 and 1.\n",
    "        Q (callable function): A function Q that takes in a dateime.date and outputs\n",
    "            a float from 0 to 1. It is assumed that Q(0) = 1 and Q is decreasing. Represents\n",
    "            survival curve.\n",
    "        R (float): Recovery rate. Usually between 0 and 1.\n",
    "    Returns: \n",
    "        float: The value of E[min(L(T),K)] in the LHP model.\n",
    "    \"\"\"\n",
    "    C = norm.ppf(1 - Q(T))\n",
    "    A = (1 / beta) * (C - sqrt(1 - beta * beta) * norm.ppf(K / (1 - R)))\n",
    "    return (1 - R) * mvn.mvndst(upper = [C, -1 * A],\n",
    "                                lower = [0,0],\n",
    "                                infin = [0,0],\n",
    "                                correl =  -1 * beta)[1] + K * norm.cdf(A)"
   ]
  },
  {
   "cell_type": "markdown",
   "metadata": {},
   "source": [
    "LHP Example\n",
    "-----------\n",
    "\n",
    "We consider an LHP model with\n",
    "\n",
    "* $\\lambda$ = 180 bps.\n",
    "* $r$ = 3%\n",
    "* $\\beta^{2}$ = 20% ($\\beta$ =0.45)\n",
    "* $R$ = 40%\n",
    "* Today being Jan 1, 2012.\n",
    "* Premium payments being made every 30 days.\n",
    "* The maturity date ranging from 1 through 10 years.\n",
    "\n",
    "We price the (5%,10%)-level tranche."
   ]
  },
  {
   "cell_type": "code",
   "execution_count": 9,
   "metadata": {
    "collapsed": false
   },
   "outputs": [],
   "source": [
    "from datetime import date\n",
    "from numpy    import exp\n",
    "today = date(2012, 1, 1)\n",
    "hazard_rate = 0.0180\n",
    "interest_rate = 0.03\n",
    "R = 0.4\n",
    "# define Q(t) & Z(t)\n",
    "def Q(t):\n",
    "    return exp(-1 * hazard_rate * (t - today).days / 365)\n",
    "def Z(t):\n",
    "    return exp(-1 * interest_rate * (t - today).days / 365)\n",
    "\n",
    "# define f(t,K) = E[min(L(t), K)]\n",
    "\n",
    "f = lambda t, K: LHP(T = t, K = K, beta = 0.45, Q = Q, R = R)\n",
    "\n",
    "# define array of tranches\n",
    "maturities = [today + timedelta(days = 365) * n for n in range(1,11)]\n",
    "payments = [[today + n * timedelta(days=30) for n in range(int((maturity - today) \n",
    "                                                               / timedelta(days=30)) + 1)]\n",
    "            for maturity in maturities]\n",
    "\n",
    "spreads = [10000 * Tranche(f = f,\n",
    "                     K1 = 0.05,\n",
    "                     K2 = 0.10,\n",
    "                     maturity = maturity,\n",
    "                     remaining_payments = payment,\n",
    "                     Z = Z,\n",
    "                     today = today\n",
    "                    ).parSpread() for maturity, payment in zip(maturities, payments)]"
   ]
  },
  {
   "cell_type": "code",
   "execution_count": 10,
   "metadata": {
    "collapsed": false
   },
   "outputs": [
    {
     "data": {
      "text/plain": [
       "[<matplotlib.lines.Line2D at 0x1092dbe48>]"
      ]
     },
     "execution_count": 10,
     "metadata": {},
     "output_type": "execute_result"
    },
    {
     "data": {
      "image/png": "[encoded data removed]",
      "text/plain": [
       "<matplotlib.figure.Figure at 0x1091655c0>"
      ]
     },
     "metadata": {},
     "output_type": "display_data"
    }
   ],
   "source": [
    "%matplotlib inline\n",
    "import matplotlib.pyplot as plt\n",
    "x = maturities\n",
    "y = spreads\n",
    "plt.xlabel(\"Maturity Date\")\n",
    "plt.ylabel(\"Par Spreads\")\n",
    "plt.plot(x,y, 'ro')"
   ]
  },
  {
   "cell_type": "code",
   "execution_count": null,
   "metadata": {
    "collapsed": true
   },
   "outputs": [],
   "source": [
    ""
   ]
  }
 ],
 "metadata": {
  "kernelspec": {
   "display_name": "Python 3",
   "language": "python",
   "name": "python3"
  },
  "language_info": {
   "codemirror_mode": {
    "name": "ipython",
    "version": 3.0
   },
   "file_extension": ".py",
   "mimetype": "text/x-python",
   "name": "python",
   "nbconvert_exporter": "python",
   "pygments_lexer": "ipython3",
   "version": "3.5.2"
  },
  "name": ""
 },
 "nbformat": 4,
 "nbformat_minor": 0
}