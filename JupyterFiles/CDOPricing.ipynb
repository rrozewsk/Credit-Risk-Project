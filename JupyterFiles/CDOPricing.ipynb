{
 "metadata": {
  "name": "",
  "signature": "sha256:b9bece0d90b43bd9f1b4d084559a7e09e984650f21418289a9991c8b436857b9"
 },
 "nbformat": 3,
 "nbformat_minor": 0,
 "worksheets": [
  {
   "cells": [
    {
     "cell_type": "markdown",
     "metadata": {},
     "source": [
      "CDO Tranche Pricing\n",
      "-------------------\n",
      "\n",
      "The par spread $S$ of a CDS tranche is given by\n",
      "$$S = \\frac{\\text{Protection Leg PV}}{\\text{RPV01}},$$\n",
      "\n",
      "where\n",
      "$$\\begin{aligned}\n",
      "\\text{RPV01} &= \\sum_{i} \\Delta_i Z(t_i) \\frac{Q(t_{i-1},K_1,K_2) + Q(t_i, K_1, K_2)}{2} \\\\\n",
      "\\text{Protection Leg PV} &= \\int_{0}^{T} Z(t) (-dQ(t,K_1,K_2))\n",
      "\\end{aligned}$$\n",
      "\n",
      "Here, \n",
      "\n",
      "* $K_1, K_2, T$ is the tranche starting level, final level, and maturity, respectively.\n",
      "* $Z(t)$ is the discount factor curve.\n",
      "* $Q(t,K_1,K_2)$ is the tranche survival curve: $Q(t,K_1,K_2)= 1 - \\frac{f(t, K_2) - f(t, K_1)}{K_2 - K_1}$\n",
      "* $t_i$ is the time of the $i^{th}$ premium payment. And $\\Delta_i$ is the time-fraction of the $i^{th}$\n",
      "  interval, using the Act365 DCF.\n",
      " \n",
      "  \n",
      "And $f(t,K) = E[ \\min (L(t),K)]$ is model-dependent.\n",
      "\n",
      "With the exception for the formula of $Q$, the CDO tranche pricing formula is identical to\n",
      "the CDS pricing formula with $R=0$. So we first define a class for calculating CDS's."
     ]
    },
    {
     "cell_type": "code",
     "collapsed": false,
     "input": [
      "from datetime import timedelta\n",
      "class CDS(object):\n",
      "    \"\"\"A generic CDS class. Can also be used for CDO tranches.\n",
      "    \n",
      "    Attributes:\n",
      "        today (datetime.date): The present date.\n",
      "        maturity (datetime.date): The maturity of the CDO.\n",
      "        remaining_payments (list): A list of datetime.date objects indicating \n",
      "            the remaining payment dates for the premium leg.\n",
      "        R (float): The recovery fraction (0 to 1).\n",
      "        Z (callable function): A function Z(t) that outputs the discount factor\n",
      "            Z(t) for a given time t (datetime.date object). Input and output are\n",
      "            both positive floats.\n",
      "        Q (callable function): A function Q(t) that takes in a single\n",
      "            datetime.date perameter and returns a float representing the tranche\n",
      "            survival probability. This function should be well-defined for all \n",
      "            dates between `today` and `maturity`.\n",
      "    \"\"\"\n",
      "    def __init__(self, today, maturity, remaining_payments, R, Z, Q):\n",
      "        self.today = today\n",
      "        self.maturity = maturity\n",
      "        self.remaining_payments = remaining_payments\n",
      "        self.R = R\n",
      "        self.Z = Z\n",
      "        self.Q = Q\n",
      "    def rpv01(self):\n",
      "        \"\"\"Returns the value of the tranche premium leg for unit notional.\n",
      "        \"\"\"\n",
      "        days = [self.today] + self.remaining_payments\n",
      "        nodes = [(day - self.today).days / 365 for day in days]\n",
      "        qvals = [self.Q(day) for day in days]\n",
      "        total = 0\n",
      "        for i in range(1, len(days)):\n",
      "            delta = nodes[i] - nodes[i - 1]\n",
      "            total += delta * self.Z(days[i]) * (qvals[i] + qvals[i - 1])\n",
      "        return total / 2\n",
      "    def protectionLegPV(self, N = 200):\n",
      "        \"\"\"Returns the value of the protection leg for unit notional.\n",
      "        \n",
      "        Arguments:\n",
      "            N (int, optional): The number of nodes for calculating the integral.\n",
      "        \"\"\"\n",
      "        delta = (self.maturity - self.today).days / N\n",
      "        days = [today + timedelta(days = delta) * n for n in range(N + 1)]\n",
      "        qvals = [self.Q(day) for day in days]\n",
      "        values = [Z(days[i]) * (qvals[i - 1] - qvals[i])\n",
      "                  for i in range(1, len(days))]\n",
      "        return (1 - self.R) * sum(values)\n",
      "    def parSpread(self, N = 200):\n",
      "        \"\"\" Returns the par spread.\n",
      "        \n",
      "        Arguments:\n",
      "            N (int, optional): The number of nodes for calculating the \n",
      "                protection leg integral.\n",
      "        \"\"\"\n",
      "        return self.protectionLegPV(N) / self.rpv01()"
     ],
     "language": "python",
     "metadata": {},
     "outputs": [],
     "prompt_number": 2
    },
    {
     "cell_type": "markdown",
     "metadata": {},
     "source": [
      "Large Homogenous Portfolio (LHP) Model\n",
      "--------------------------------------\n",
      "\n",
      "The LHP tranche pricing model is given by the following equations:\n",
      "$$\\begin{aligned}\n",
      "E[\\min (L(T), K)] &= (1-R) \\Phi_{2}(C(T), -A(K), - \\beta) + K \\Phi(A(K)) \\\\\n",
      "A(K) &= \\frac{1}{\\beta} \\left( C(T) - \\sqrt{1 - \\beta^{2}} \\Phi^{-1} \\left( \\frac{K}{1-R} \\right) \\right) \\\\\n",
      "C(T) &= \\Phi^{-1} (1 - Q(T))\n",
      "\\end{aligned}$$\n",
      "\n",
      "Here:\n",
      "* $\\Phi_{2}$ is the cdf of the bivariate normal distribution. The third perameter being correlation.\n",
      "* $\\beta^{2}$ the correlation\n",
      "* $R$ is the recovery rate.\n",
      "* $Q(T)$ is the survival curve"
     ]
    },
    {
     "cell_type": "code",
     "collapsed": false,
     "input": [
      "from scipy.stats import norm, mvn #normal and bivariate normal\n",
      "from numpy       import sqrt\n",
      "\n",
      "def Q_lhp(t, K1, K2, R, beta, Q):\n",
      "    \"\"\"Calculates the Tranche survival curve for the LHP model.\n",
      "    \n",
      "    Args:\n",
      "        T (datetime.date): Should be given in \"days\" (no hours, minutes, etc.)\n",
      "        K1 (float): The starting value of the tranche. Its value should be \n",
      "            between 0 & 1.\n",
      "        K2 (float): The final value of the tranche. \n",
      "        beta (float): Correlation perameter. Its value should be between 0 and 1.\n",
      "        R (float): Recovery rate. Usually between 0 and 1.\n",
      "        Q (callable function): A function Q that takes in a dateime.date and\n",
      "            outputs a float from 0 to 1. It is assumed that Q(0) = 1 and Q is \n",
      "            decreasing. Represents survival curve of each credit.\n",
      "    \"\"\"\n",
      "    if Q(t) == 1:\n",
      "        return 1 # prevents infinity\n",
      "    def emin(K):\n",
      "    # Calculates E[min(L(T), K)] in LHP model\n",
      "        C = norm.ppf(1 - Q(t))\n",
      "        A = (1 / beta) * (C - sqrt(1 - beta * beta) * norm.ppf(K / (1 - R)))\n",
      "        return (1 - R) * mvn.mvndst(upper = [C, -1 * A],\n",
      "                                    lower = [0,0],\n",
      "                                    infin = [0,0], # set lower bounds = -infty\n",
      "                                    correl =  -1 * beta)[1] + K * norm.cdf(A)\n",
      "    return 1 - (emin(K2) - emin(K1)) / (K2 - K1)"
     ],
     "language": "python",
     "metadata": {},
     "outputs": [],
     "prompt_number": 13
    },
    {
     "cell_type": "markdown",
     "metadata": {},
     "source": [
      "Gaussian Heterogenous Model\n",
      "---------------------------\n",
      "\n",
      "The tranche survival curve is given by \n",
      "\n",
      "$$\\begin{aligned}\n",
      "Q_{\\text{Gauss}} (t, K_1, K_2) & = 1 - \\frac{1}{K_2 - K_1} \\int_{- \\infty}^{+ \\infty} \\phi (z) f(z) dz \\\\\n",
      "f(z) &= \\sigma \\phi \\left(\\frac{\\mu - K_1}{\\sigma} \\right) + (\\mu - K_1) \\Phi \\left( \\frac{\\mu - K_1}{\\sigma} \\right) - (\\mu - K_2) \\Phi \\left( \\frac{\\mu - K_2}{\\sigma} \\right) - \\sigma \\phi \\left( \\frac{\\mu - K2}{\\sigma} \\right) \\\\\n",
      "\\mu &= \\frac{1}{N} \\sum_{i=1}^{N} p_{i}(t,z) F_i (1 - R_i) \\\\\n",
      "\\sigma^{2} &= \\frac{1}{N^2} \\sum_{i=1}^{N} p_i (t,z) (1 - p_i (t,z)) F_i^2 (1-R_i)^{2} \\\\\n",
      "p_{i}(t,z) &= \\Phi \\left( \\frac{C_i (t) - \\beta_i z}{\\sqrt{1 - \\beta_i^2}}\\right) \\\\\n",
      "C_{i} (t) &= \\Phi^{-1} (1 -Q_i (t))\n",
      "\\end{aligned}$$\n",
      "\n",
      "Here:\n",
      "\n",
      "* $K_1, K_2$ are the boundaries of the tranche (they are between 0 and 1).\n",
      "* $N$ is the number of credits\n",
      "* $F_i$ is the fractional face value of the $i$th credit.\n",
      "* $R_i$ is the recovery rate of the $i$th credit.\n",
      "* $\\beta_{i}$ is the $i$th correlation perameter\n",
      "* $Q_i$ is the survival curve of the $i$th credit.\n",
      "\n",
      "Unlike the LHP model, this is heterogenous in that each credit has distinct values of $ R_i, \\beta_i, Q_i$. Moreover, the values of $F_i$ becomes relevant."
     ]
    },
    {
     "cell_type": "code",
     "collapsed": false,
     "input": [
      "from scipy.integrate import quad\n",
      "def Q_gauss(t, K1, K2, Fs, Rs, betas, Qs):\n",
      "    \"\"\" Calculate the tranche survival probability in the Gaussian heterogenous model.\n",
      "    \n",
      "    Arguments:\n",
      "        t (float): Time. Positive.\n",
      "        K1 (float): Starting tranche value. Between 0 and 1.\n",
      "        K2 (float): Ending tranche value. Between 0 and 1.\n",
      "        Fs (list): List of fractional face values for each credit. Each entry must be\n",
      "            between 0 and 1.\n",
      "        Rs (list): List of recovery rates for each credit. Each entry must be between\n",
      "            0 and 1.\n",
      "        betas (list): Correlation perameters for each credit. Each entry must be between\n",
      "            0 and 1.\n",
      "        Qs (list): Survival curves for each credit. Each entry must be a callable function\n",
      "            that takes in a datetime.date argument and returns a number from 0 to 1.\n",
      "    \"\"\"\n",
      "    Cs = [norm.ppf(1 - q(t)) for q in Qs]\n",
      "    N = len(Fs) \n",
      "    def f(K,z):\n",
      "        ps = [norm.cdf((C - beta * z) / sqrt(1 - beta ** 2)) for C, beta in zip(Cs, betas)]\n",
      "        mu = 1 / N * sum([p * F * (1 - R) for p, F, R in zip(ps, Fs, Rs)])\n",
      "        sigma_squared = 1 / N / N * sum([p * (1 - p) * F ** 2 * (1 - R) ** 2\n",
      "                                         for p, F, R in zip(ps, Fs, Rs)])\n",
      "        sigma = sqrt(sigma_squared)\n",
      "        return -1 * sigma * norm.pdf((mu - K) / sigma) - (mu - K) * norm.cdf((mu - K) / sigma)\n",
      "    emin = lambda K: quad(lambda z: norm.pdf(z) * f(K, z), -10, 10)[0]\n",
      "    return 1 - (emin(K2) - emin(K1)) / (K2 - K1)"
     ],
     "language": "python",
     "metadata": {},
     "outputs": [],
     "prompt_number": 14
    },
    {
     "cell_type": "markdown",
     "metadata": {},
     "source": [
      "Adjusted Binomial Model\n",
      "-----------------------\n",
      "\n",
      "The adjusted binomial model is given as \n",
      "\n",
      "$$\\begin{aligned}\n",
      "E[min(L(T),K)] &= \\sum_{k=0}^{N} h(k) \\min (Lk, K) \\\\\n",
      "h(k) &= \\int_{- \\infty}^{\\infty} \\phi (z) g(k) dz \\\\\n",
      "g(k) &= \\alpha f(k) \\text{ for } k \\neq l,u \\\\\n",
      "g(l) &= f(l) + (1 - \\alpha)(u - m) \\\\\n",
      "g(u) &= f(u) - (1 - \\alpha)(l - m) \\\\\n",
      "l &= \\text{floor} (m) \\\\\n",
      "m &= p N \\\\\n",
      "u &= l + 1 \\\\\n",
      "p &= \\frac{1}{N} \\sum_{i=1}^N \\frac{(1 - R_i)F_i}{L} p_i \\\\\n",
      "\\alpha &= \\frac{v_E N + (u - m)^2 -((l -m)^2 - (u -m)^2)(u -m)}\n",
      "{v_A N + (u - m)^2 -((l -m)^2 - (u -m)^2)(u -m)} \\\\\n",
      "v_E &= \\frac{1}{N^2} \\sum_{i=1}^{N} \\left( \\frac{(1-R_i)F_i}{L}\\right)^2 p_i(1 - p_i) \\\\\n",
      "v_A &= \\frac{p(1-p)}{N} \\\\\n",
      "f(k) &= \\frac{N!}{(N - k)! k!} p^k (1 - p)^{N - k} \\\\\n",
      "L &= \\frac{1}{N} \\sum_{i=1}^{N} (1 - R_i) F_i\n",
      "\\end{aligned}$$"
     ]
    },
    {
     "cell_type": "code",
     "collapsed": false,
     "input": [
      "def Q_adjbinom(t, K1, K2, Fs, Rs, betas, Qs):\n",
      "    \"\"\" Calculates the tranche survival probability under the adjusted\n",
      "        binomial model.\n",
      "        \n",
      "        Arguments:\n",
      "            t (datetime.date): Time.\n",
      "            K1 (float): Starting tranche value (0 to 1).\n",
      "            K2 (float): Final tranche value (0 to 1).\n",
      "            Fs (list): List of fractional face values (floats) for each credit.\n",
      "            Rs (list): List of recovery rates (floats) for each credit.\n",
      "            betas (list): List of correlation perameters\n",
      "            Qs (list): List of survival probabilities. These are callable functions that\n",
      "                takes in a single datetime.date argument and returns a float.\n",
      "        Returns:\n",
      "            float: The value of the tranche survival curve.\n",
      "    \"\"\"\n",
      "    if Qs[0](t) == 1:\n",
      "        return 1.0 # initial value -- avoids weird nan return\n",
      "    N = len(Fs)\n",
      "    Cs = [norm.ppf(1 - Q(t)) for Q in Qs]\n",
      "    L = sum([(1 - R) * F for R, F in zip(Rs, Fs)]) / N\n",
      "    def choose(n, k): # Calculates binomial coeffecient: n choose k.\n",
      "        if k == 0 or k == n:\n",
      "            return 1\n",
      "        return choose(n - 1, k - 1) + choose(n - 1, k)\n",
      "    def g(k,z):\n",
      "        ps = [norm.cdf((C - beta * z) / sqrt(1 - beta * beta)) for C, beta in zip(Cs, betas)]\n",
      "        p_avg = sum([(1 - R) * F / L * p for R, F, p in zip(Rs, Fs, ps)]) / N\n",
      "        f = lambda k: choose(N, k) * p_avg ** k * (1 - p_avg) ** (N - k)\n",
      "        vA = p_avg * (1 - p_avg) / N\n",
      "        vE = 1 / N / N * sum([((1 - R) * F / L) ** 2 * p * (1 - p) for R, F, p in zip(Rs, Fs, ps)])\n",
      "        m = p_avg * N\n",
      "        l = int(m)\n",
      "        u = l + 1\n",
      "        o = (u - m) ** 2 + ((l - m) ** 2 - (u - m) ** 2) * (u - m)\n",
      "        alpha = (vE * N + o) / (vA * N + o)\n",
      "        if k == l:\n",
      "            return f(l) + (1 - alpha) * (u - m)\n",
      "        if k == u:\n",
      "            return f(u) - (1 - alpha) * (l - m)\n",
      "        return alpha * f(k)\n",
      "    I = lambda k: quad(lambda z: norm.pdf(z) * g(k, z), -10, 10)[0]\n",
      "    emin = lambda K: sum([I(k) * min(L * k, K) for k in range(0, N + 1)])\n",
      "    return 1 - (emin(K2) - emin(K1)) / (K2 - K1)"
     ],
     "language": "python",
     "metadata": {},
     "outputs": [],
     "prompt_number": 15
    },
    {
     "cell_type": "markdown",
     "metadata": {},
     "source": [
      "Exact Value (Recursive, Inhomogenous)\n",
      "-------------------------------------"
     ]
    },
    {
     "cell_type": "code",
     "collapsed": false,
     "input": [
      "def gcd(a, b):\n",
      "    if a * b == 0:\n",
      "        return max(a, b)\n",
      "    if a < b:\n",
      "        return gcd(a, b % a)\n",
      "    return gcd(a % b, b)\n",
      "def Q_exact(t, K1, K2, Fs, Rs, betas, Qs):\n",
      "    Cs = [norm.ppf(1 - Q(t)) for Q in Qs]\n",
      "    N = len(Fs)\n",
      "    g = round(3600 * Fs[0] * (1 - Rs[0]))\n",
      "    for j in range(1, N):\n",
      "        g = gcd(g, round(3600 * Fs[j] * (1 - Rs[j])))\n",
      "    g = g / 3600\n",
      "    ns = [round(F * (1 - R) / g) for F, R in zip(Fs, Rs)]\n",
      "    def f(j, k, z):\n",
      "        if (j, k) == (0, 0):\n",
      "            return 1.0\n",
      "        if j == 0:\n",
      "            return 0.0\n",
      "        ps = [norm.cdf((C - beta * z) / sqrt(1 - beta ** 2)) for C, beta in zip(Cs, betas)]\n",
      "        if k < ns[j - 1]:\n",
      "            return f(j - 1, k, z) * (1 - ps[j - 1])\n",
      "        return f(j - 1, k, z) * (1 - ps[j -1]) + f(j - 1, k - ns[j - 1], z) * ps[j - 1]\n",
      "    I = [quad(lambda z: norm.pdf(z) * f(N, k, z), -12, 12)[0] for k in range(sum(ns))]\n",
      "    emin = lambda K: sum([I[k] * min(k * g, K) for k in range(sum(ns))])\n",
      "    return 1 - (emin(K2) - emin(K1)) / (K2 - K1)"
     ],
     "language": "python",
     "metadata": {},
     "outputs": [],
     "prompt_number": 16
    },
    {
     "cell_type": "markdown",
     "metadata": {},
     "source": [
      "Example (N = 2 credits)\n",
      "---------------------"
     ]
    },
    {
     "cell_type": "code",
     "collapsed": false,
     "input": [
      "from numpy import exp\n",
      "from datetime import date, timedelta\n",
      "N = 2\n",
      "K1 = 0.03\n",
      "K2 = 0.07\n",
      "Fs = [0.5, 0.5]\n",
      "Rs = [0.4, 0.6]\n",
      "def expdecay(today, rate):\n",
      "    return lambda t: exp(-1 * (t - today).days / 365 * rate)\n",
      "today = date(2012,1, 1)\n",
      "Qs = [expdecay(today, 0.0100), expdecay(today, 0.0150)]\n",
      "betas = [0.40, 0.40]\n",
      "tvalues = [today + timedelta(days = 30) * n for n in range(37)] #3 years\n",
      "# LHP perameters average the other perameters\n",
      "R = 0.5\n",
      "Q = expdecay(today, 0.0150)\n",
      "beta = 0.4\n"
     ],
     "language": "python",
     "metadata": {},
     "outputs": [],
     "prompt_number": 17
    },
    {
     "cell_type": "code",
     "collapsed": false,
     "input": [
      "from time import time\n",
      "x = time()\n",
      "lhpcurve = [Q_lhp(t, K1, K2, R, beta, Q) for t in tvalues]\n",
      "y = time()\n",
      "print(\"lhp: {} ms\".format(round(1000 * (y - x))))"
     ],
     "language": "python",
     "metadata": {},
     "outputs": [
      {
       "output_type": "stream",
       "stream": "stdout",
       "text": [
        "lhp: 119 ms\n"
       ]
      }
     ],
     "prompt_number": 18
    },
    {
     "cell_type": "code",
     "collapsed": false,
     "input": [
      "x = time()\n",
      "gaussiancurve = [Q_gauss(t, K1, K2, Fs, Rs, betas, Qs) for t in tvalues]\n",
      "y=time()\n",
      "print(\"gauss: {} ms\".format(round(1000 * (y - x))))"
     ],
     "language": "python",
     "metadata": {},
     "outputs": [
      {
       "output_type": "stream",
       "stream": "stdout",
       "text": [
        "gauss: 21154 ms\n"
       ]
      }
     ],
     "prompt_number": 19
    },
    {
     "cell_type": "code",
     "collapsed": false,
     "input": [
      "x= time()\n",
      "adjustedbinomialcurve = [Q_adjbinom(t, K1, K2, Fs, Rs, betas, Qs) for t in tvalues]\n",
      "y = time()\n",
      "print(\"adjbinom: {} ms\".format(round(1000 * (y - x))))"
     ],
     "language": "python",
     "metadata": {},
     "outputs": [
      {
       "output_type": "stream",
       "stream": "stdout",
       "text": [
        "adjbinom: 39434 ms\n"
       ]
      }
     ],
     "prompt_number": 20
    },
    {
     "cell_type": "code",
     "collapsed": false,
     "input": [
      "x = time()\n",
      "exactcurve = [Q_exact(t, K1, K2, Fs, Rs, betas, Qs) for t in tvalues]\n",
      "y = time()\n",
      "print(\"exact: {} ms\".format(round(1000 * (y - x))))"
     ],
     "language": "python",
     "metadata": {},
     "outputs": [
      {
       "output_type": "stream",
       "stream": "stdout",
       "text": [
        "exact: 47635 ms\n"
       ]
      }
     ],
     "prompt_number": 21
    },
    {
     "cell_type": "code",
     "collapsed": false,
     "input": [
      "%matplotlib inline\n",
      "import matplotlib.pyplot as plt\n",
      "plt.plot(tvalues, lhpcurve, 'ro', #red\n",
      "         tvalues, adjustedbinomialcurve, 'bo', #blue\n",
      "         tvalues, gaussiancurve, 'go', #green\n",
      "         tvalues, exactcurve, 'ko'\n",
      "         )\n",
      "plt.show"
     ],
     "language": "python",
     "metadata": {},
     "outputs": [
      {
       "metadata": {},
       "output_type": "pyout",
       "prompt_number": 22,
       "text": [
        "<function matplotlib.pyplot.show>"
       ]
      },
      {
       "metadata": {},
       "output_type": "display_data",
       "png": "[encoded data removed]",
       "text": [
        "<matplotlib.figure.Figure at 0x7f1259325eb8>"
       ]
      }
     ],
     "prompt_number": 22
    },
    {
     "cell_type": "code",
     "collapsed": false,
     "input": [],
     "language": "python",
     "metadata": {},
     "outputs": []
    }
   ],
   "metadata": {}
  }
 ]
}